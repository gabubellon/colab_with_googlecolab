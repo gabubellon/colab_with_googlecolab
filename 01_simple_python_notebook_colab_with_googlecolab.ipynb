{
  "nbformat": 4,
  "nbformat_minor": 0,
  "metadata": {
    "colab": {
      "name": "01.simple_python_notebook_colab_with_googlecolab.ipynb",
      "version": "0.3.2",
      "provenance": [],
      "collapsed_sections": [
        "Ip7eFx7sgV1D"
      ],
      "include_colab_link": true
    },
    "kernelspec": {
      "name": "python3",
      "display_name": "Python 3"
    }
  },
  "cells": [
    {
      "cell_type": "markdown",
      "metadata": {
        "id": "view-in-github",
        "colab_type": "text"
      },
      "source": [
        "<a href=\"https://colab.research.google.com/github/gabubellon/colab_with_googlecolab/blob/master/01_simple_python_notebook_colab_with_googlecolab.ipynb\" target=\"_parent\"><img src=\"https://colab.research.google.com/assets/colab-badge.svg\" alt=\"Open In Colab\"/></a>"
      ]
    },
    {
      "cell_type": "markdown",
      "metadata": {
        "id": "Yy0Af7zkfGGj",
        "colab_type": "text"
      },
      "source": [
        "## Um Simples Python Notebook !!\n",
        "\n",
        "\n",
        "* Aceita comandso e formatações **como todo Jupyter**\n",
        "* Tem os atalhos **como todo Jupyter**\n",
        "* Você **não precisa de nada além de um computador com Chrome e Internet**\n"
      ]
    },
    {
      "cell_type": "markdown",
      "metadata": {
        "id": "Ip7eFx7sgV1D",
        "colab_type": "text"
      },
      "source": [
        "# Organizando os códigos com sessões \n",
        "## Definições"
      ]
    },
    {
      "cell_type": "code",
      "metadata": {
        "id": "JIn6JmIugMds",
        "colab_type": "code",
        "colab": {}
      },
      "source": [
        "def soma_nums(num1,num2):\n",
        "  return num1 + num2"
      ],
      "execution_count": 0,
      "outputs": []
    },
    {
      "cell_type": "code",
      "metadata": {
        "id": "aYNg4FoFgtCA",
        "colab_type": "code",
        "colab": {}
      },
      "source": [
        "def sub_nums(num1,num2):\n",
        "  return num1 - num2"
      ],
      "execution_count": 0,
      "outputs": []
    },
    {
      "cell_type": "code",
      "metadata": {
        "id": "aQSExqRkgzZO",
        "colab_type": "code",
        "colab": {}
      },
      "source": [
        "def mult_nums(num1,num2):\n",
        "  return num1 * num2"
      ],
      "execution_count": 0,
      "outputs": []
    },
    {
      "cell_type": "code",
      "metadata": {
        "id": "zQ5cFMTngzcX",
        "colab_type": "code",
        "colab": {}
      },
      "source": [
        "def div_nums(num1,num2):\n",
        "  return num1/num2"
      ],
      "execution_count": 0,
      "outputs": []
    },
    {
      "cell_type": "markdown",
      "metadata": {
        "id": "Lix-7W5rgdnI",
        "colab_type": "text"
      },
      "source": [
        "# Continuando organizando códigos com sessões\n",
        "## Executando"
      ]
    },
    {
      "cell_type": "code",
      "metadata": {
        "id": "lSB52sUchrnq",
        "colab_type": "code",
        "colab": {
          "base_uri": "https://localhost:8080/",
          "height": 204
        },
        "outputId": "41d5b659-eede-44e2-f6c7-cef17017a628"
      },
      "source": [
        "num1 = 10\n",
        "num2 = 2\n",
        "print(\"SOMA:\")\n",
        "print(\"{} + {} = {}\\n\".format(num1,num2,soma_nums(num1,num2)))\n",
        "\n",
        "print(\"SUB:\")\n",
        "print(\"{} - {} = {}\\n\".format(num1,num2,sub_nums(num1,num2)))\n",
        "\n",
        "print(\"MULT:\")\n",
        "print(\"{} * {} = {}\\n\".format(num1,num2,mult_nums(num1,num2)))\n",
        "\n",
        "print(\"DIV:\")\n",
        "print(\"{} / {} = {}\".format(num1,num2,div_nums(num1,num2)))"
      ],
      "execution_count": 22,
      "outputs": [
        {
          "output_type": "stream",
          "text": [
            "SOMA:\n",
            "10 + 2 = 12\n",
            "\n",
            "SUB:\n",
            "10 - 2 = 8\n",
            "\n",
            "MULT:\n",
            "10 * 2 = 20\n",
            "\n",
            "DIV:\n",
            "10 / 2 = 5.0\n"
          ],
          "name": "stdout"
        }
      ]
    },
    {
      "cell_type": "code",
      "metadata": {
        "id": "4sm2FwU-hxHp",
        "colab_type": "code",
        "colab": {}
      },
      "source": [
        ""
      ],
      "execution_count": 0,
      "outputs": []
    }
  ]
}